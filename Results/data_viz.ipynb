{
 "cells": [
  {
   "cell_type": "code",
   "execution_count": 1,
   "metadata": {},
   "outputs": [],
   "source": [
    "import numpy as np \n",
    "import pandas as pd\n",
    "import matplotlib.pyplot as plt\n",
    "%matplotlib inline\n",
    "plt.style.use('seaborn-whitegrid')"
   ]
  },
  {
   "cell_type": "code",
   "execution_count": 2,
   "metadata": {},
   "outputs": [
    {
     "data": {
      "text/html": [
       "<div>\n",
       "<style scoped>\n",
       "    .dataframe tbody tr th:only-of-type {\n",
       "        vertical-align: middle;\n",
       "    }\n",
       "\n",
       "    .dataframe tbody tr th {\n",
       "        vertical-align: top;\n",
       "    }\n",
       "\n",
       "    .dataframe thead th {\n",
       "        text-align: right;\n",
       "    }\n",
       "</style>\n",
       "<table border=\"1\" class=\"dataframe\">\n",
       "  <thead>\n",
       "    <tr style=\"text-align: right;\">\n",
       "      <th></th>\n",
       "      <th>GJ</th>\n",
       "      <th>LUD</th>\n",
       "      <th>M</th>\n",
       "    </tr>\n",
       "  </thead>\n",
       "  <tbody>\n",
       "    <tr>\n",
       "      <th>0</th>\n",
       "      <td>0.001</td>\n",
       "      <td>0.001</td>\n",
       "      <td>0.000</td>\n",
       "    </tr>\n",
       "    <tr>\n",
       "      <th>1</th>\n",
       "      <td>0.002</td>\n",
       "      <td>0.001</td>\n",
       "      <td>0.000</td>\n",
       "    </tr>\n",
       "    <tr>\n",
       "      <th>2</th>\n",
       "      <td>0.014</td>\n",
       "      <td>0.007</td>\n",
       "      <td>0.010</td>\n",
       "    </tr>\n",
       "    <tr>\n",
       "      <th>3</th>\n",
       "      <td>0.019</td>\n",
       "      <td>0.020</td>\n",
       "      <td>0.020</td>\n",
       "    </tr>\n",
       "    <tr>\n",
       "      <th>4</th>\n",
       "      <td>0.034</td>\n",
       "      <td>0.039</td>\n",
       "      <td>0.044</td>\n",
       "    </tr>\n",
       "    <tr>\n",
       "      <th>5</th>\n",
       "      <td>0.091</td>\n",
       "      <td>0.076</td>\n",
       "      <td>0.043</td>\n",
       "    </tr>\n",
       "    <tr>\n",
       "      <th>6</th>\n",
       "      <td>0.701</td>\n",
       "      <td>0.637</td>\n",
       "      <td>0.688</td>\n",
       "    </tr>\n",
       "    <tr>\n",
       "      <th>7</th>\n",
       "      <td>6.525</td>\n",
       "      <td>5.571</td>\n",
       "      <td>5.678</td>\n",
       "    </tr>\n",
       "  </tbody>\n",
       "</table>\n",
       "</div>"
      ],
      "text/plain": [
       "      GJ    LUD      M\n",
       "0  0.001  0.001  0.000\n",
       "1  0.002  0.001  0.000\n",
       "2  0.014  0.007  0.010\n",
       "3  0.019  0.020  0.020\n",
       "4  0.034  0.039  0.044\n",
       "5  0.091  0.076  0.043\n",
       "6  0.701  0.637  0.688\n",
       "7  6.525  5.571  5.678"
      ]
     },
     "execution_count": 2,
     "metadata": {},
     "output_type": "execute_result"
    }
   ],
   "source": [
    "inp = pd.read_csv(\"inv_op.csv\")\n",
    "inp"
   ]
  },
  {
   "cell_type": "markdown",
   "metadata": {},
   "source": [
    "## MATRIX INVERSION METHODS COMPARISION\n"
   ]
  },
  {
   "cell_type": "code",
   "execution_count": 3,
   "metadata": {},
   "outputs": [
    {
     "data": {
      "image/png": "[encoded data removed]",
      "text/plain": [
       "<Figure size 432x288 with 1 Axes>"
      ]
     },
     "metadata": {},
     "output_type": "display_data"
    }
   ],
   "source": [
    "fig = plt.figure()\n",
    "ax  = plt.axes()\n",
    "\n",
    "#ax = fig.add_axes([20, 1010, 0, 7])\n",
    "\n",
    "ax.set_title(\"Processor time comparision : Matrix inversion\")\n",
    "ax.set_xlabel(\"Input Matrix Size\")\n",
    "ax.set_ylabel(\"Processor Time (s)\")\n",
    "\n",
    "x = np.arange(1, 9)\n",
    "y1 = inp['GJ']\n",
    "y2 = inp['LUD']\n",
    "y3 = inp['M']\n",
    "\n",
    "ax.plot(x, y1, color = 'b', label = 'GJ')\n",
    "ax.plot(x, y2, color = 'r', label = 'LUD')\n",
    "ax.plot(x, y3, color = 'g', label = 'OptM')\n",
    "\n",
    "plt.legend()\n",
    "\n",
    "plt.savefig(\"C:\\\\Users\\\\S K Nayak\\\\Documents\\\\CSE2003 Project\\\\DSA project\\\\inv_op.png\", format = 'png')"
   ]
  },
  {
   "cell_type": "markdown",
   "metadata": {},
   "source": [
    "## MATRIX MULTIPLICATION METHODS COMPARISION 1"
   ]
  },
  {
   "cell_type": "code",
   "execution_count": 4,
   "metadata": {},
   "outputs": [
    {
     "data": {
      "text/html": [
       "<div>\n",
       "<style scoped>\n",
       "    .dataframe tbody tr th:only-of-type {\n",
       "        vertical-align: middle;\n",
       "    }\n",
       "\n",
       "    .dataframe tbody tr th {\n",
       "        vertical-align: top;\n",
       "    }\n",
       "\n",
       "    .dataframe thead th {\n",
       "        text-align: right;\n",
       "    }\n",
       "</style>\n",
       "<table border=\"1\" class=\"dataframe\">\n",
       "  <thead>\n",
       "    <tr style=\"text-align: right;\">\n",
       "      <th></th>\n",
       "      <th>Naive</th>\n",
       "      <th>CacheOpt</th>\n",
       "    </tr>\n",
       "  </thead>\n",
       "  <tbody>\n",
       "    <tr>\n",
       "      <th>0</th>\n",
       "      <td>0.001</td>\n",
       "      <td>0.001</td>\n",
       "    </tr>\n",
       "    <tr>\n",
       "      <th>1</th>\n",
       "      <td>0.003</td>\n",
       "      <td>0.002</td>\n",
       "    </tr>\n",
       "    <tr>\n",
       "      <th>2</th>\n",
       "      <td>0.007</td>\n",
       "      <td>0.006</td>\n",
       "    </tr>\n",
       "    <tr>\n",
       "      <th>3</th>\n",
       "      <td>0.073</td>\n",
       "      <td>0.040</td>\n",
       "    </tr>\n",
       "    <tr>\n",
       "      <th>4</th>\n",
       "      <td>0.094</td>\n",
       "      <td>0.054</td>\n",
       "    </tr>\n",
       "    <tr>\n",
       "      <th>5</th>\n",
       "      <td>0.171</td>\n",
       "      <td>0.114</td>\n",
       "    </tr>\n",
       "    <tr>\n",
       "      <th>6</th>\n",
       "      <td>0.999</td>\n",
       "      <td>0.678</td>\n",
       "    </tr>\n",
       "    <tr>\n",
       "      <th>7</th>\n",
       "      <td>13.036</td>\n",
       "      <td>6.086</td>\n",
       "    </tr>\n",
       "  </tbody>\n",
       "</table>\n",
       "</div>"
      ],
      "text/plain": [
       "    Naive  CacheOpt\n",
       "0   0.001     0.001\n",
       "1   0.003     0.002\n",
       "2   0.007     0.006\n",
       "3   0.073     0.040\n",
       "4   0.094     0.054\n",
       "5   0.171     0.114\n",
       "6   0.999     0.678\n",
       "7  13.036     6.086"
      ]
     },
     "execution_count": 4,
     "metadata": {},
     "output_type": "execute_result"
    }
   ],
   "source": [
    "inp2 = pd.read_csv(\"mul_op_nc.csv\")\n",
    "inp2"
   ]
  },
  {
   "cell_type": "code",
   "execution_count": 5,
   "metadata": {
    "tags": []
   },
   "outputs": [
    {
     "data": {
      "image/png": "[encoded data removed]",
      "text/plain": [
       "<Figure size 432x288 with 1 Axes>"
      ]
     },
     "metadata": {},
     "output_type": "display_data"
    }
   ],
   "source": [
    "fig2 = plt.figure()\n",
    "ax2  = plt.axes()\n",
    "\n",
    "#ax = fig.add_axes([20, 1010, 0, 7])\n",
    "\n",
    "ax2.set_title(\"Processor time comparision : Matrix multiplication\")\n",
    "ax2.set_xlabel(\"Input Matrix Size\")\n",
    "ax2.set_ylabel(\"Processor Time (s)\")\n",
    "\n",
    "x2 = np.arange(1, 9)\n",
    "y12 = inp2['Naive']\n",
    "y22 = inp2['CacheOpt']\n",
    "\n",
    "ax2.plot(x2, y12, color = 'b', label = 'Naive')\n",
    "ax2.plot(x2, y22, color = 'r', label = 'Cache_opt')\n",
    "\n",
    "plt.legend()\n",
    "\n",
    "plt.savefig(\"C:\\\\Users\\\\S K Nayak\\\\Documents\\\\CSE2003 Project\\\\DSA project\\\\mat_mul_nc_op.png\", format = 'png')"
   ]
  },
  {
   "cell_type": "markdown",
   "metadata": {},
   "source": [
    "## MATRIX MULTIPLICATION METHODS COMPARISION 2"
   ]
  },
  {
   "cell_type": "code",
   "execution_count": 6,
   "metadata": {},
   "outputs": [
    {
     "data": {
      "text/html": [
       "<div>\n",
       "<style scoped>\n",
       "    .dataframe tbody tr th:only-of-type {\n",
       "        vertical-align: middle;\n",
       "    }\n",
       "\n",
       "    .dataframe tbody tr th {\n",
       "        vertical-align: top;\n",
       "    }\n",
       "\n",
       "    .dataframe thead th {\n",
       "        text-align: right;\n",
       "    }\n",
       "</style>\n",
       "<table border=\"1\" class=\"dataframe\">\n",
       "  <thead>\n",
       "    <tr style=\"text-align: right;\">\n",
       "      <th></th>\n",
       "      <th>Naive</th>\n",
       "      <th>CacheOpt</th>\n",
       "      <th>Strassen</th>\n",
       "    </tr>\n",
       "  </thead>\n",
       "  <tbody>\n",
       "    <tr>\n",
       "      <th>0</th>\n",
       "      <td>0.001</td>\n",
       "      <td>0.000</td>\n",
       "      <td>0.047</td>\n",
       "    </tr>\n",
       "    <tr>\n",
       "      <th>1</th>\n",
       "      <td>0.005</td>\n",
       "      <td>0.004</td>\n",
       "      <td>0.337</td>\n",
       "    </tr>\n",
       "    <tr>\n",
       "      <th>2</th>\n",
       "      <td>0.004</td>\n",
       "      <td>0.003</td>\n",
       "      <td>0.149</td>\n",
       "    </tr>\n",
       "    <tr>\n",
       "      <th>3</th>\n",
       "      <td>0.121</td>\n",
       "      <td>0.096</td>\n",
       "      <td>7.518</td>\n",
       "    </tr>\n",
       "    <tr>\n",
       "      <th>4</th>\n",
       "      <td>1.127</td>\n",
       "      <td>1.042</td>\n",
       "      <td>50.473</td>\n",
       "    </tr>\n",
       "    <tr>\n",
       "      <th>5</th>\n",
       "      <td>15.021</td>\n",
       "      <td>6.656</td>\n",
       "      <td>396.862</td>\n",
       "    </tr>\n",
       "    <tr>\n",
       "      <th>6</th>\n",
       "      <td>179.181</td>\n",
       "      <td>56.766</td>\n",
       "      <td>2205.365</td>\n",
       "    </tr>\n",
       "  </tbody>\n",
       "</table>\n",
       "</div>"
      ],
      "text/plain": [
       "     Naive  CacheOpt  Strassen\n",
       "0    0.001     0.000     0.047\n",
       "1    0.005     0.004     0.337\n",
       "2    0.004     0.003     0.149\n",
       "3    0.121     0.096     7.518\n",
       "4    1.127     1.042    50.473\n",
       "5   15.021     6.656   396.862\n",
       "6  179.181    56.766  2205.365"
      ]
     },
     "execution_count": 6,
     "metadata": {},
     "output_type": "execute_result"
    }
   ],
   "source": [
    "inp3 = pd.read_csv(\"mul_op_ncs.csv\")\n",
    "inp3"
   ]
  },
  {
   "cell_type": "code",
   "execution_count": 7,
   "metadata": {
    "tags": []
   },
   "outputs": [
    {
     "data": {
      "image/png": "[encoded data removed]",
      "text/plain": [
       "<Figure size 432x288 with 1 Axes>"
      ]
     },
     "metadata": {},
     "output_type": "display_data"
    }
   ],
   "source": [
    "fig3 = plt.figure()\n",
    "ax3  = plt.axes()\n",
    "\n",
    "#ax = fig.add_axes([20, 1010, 0, 7])\n",
    "\n",
    "ax3.set_title(\"Processor time comparision : Matrix multiplication\")\n",
    "ax3.set_xlabel(\"Input Matrix Size\")\n",
    "ax3.set_ylabel(\"Processor Time (s)\")\n",
    "\n",
    "x3 = np.arange(1, 8)\n",
    "y13 = inp3['Naive']\n",
    "y23 = inp3['CacheOpt']\n",
    "y33 = inp3['Strassen']\n",
    "\n",
    "ax3.plot(x3, y13, color = 'b', label = 'Naive')\n",
    "ax3.plot(x3, y23, color = 'r', label = 'Cache_opt')\n",
    "ax3.plot(x3, y33, color = 'g', label = 'Strassen')\n",
    "\n",
    "plt.legend()\n",
    "\n",
    "plt.savefig(\"C:\\\\Users\\\\S K Nayak\\\\Documents\\\\CSE2003 Project\\\\DSA project\\\\mat_mul_ncs_op.png\", format = 'png')"
   ]
  },
  {
   "cell_type": "code",
   "execution_count": 8,
   "metadata": {},
   "outputs": [
    {
     "data": {
      "text/html": [
       "<div>\n",
       "<style scoped>\n",
       "    .dataframe tbody tr th:only-of-type {\n",
       "        vertical-align: middle;\n",
       "    }\n",
       "\n",
       "    .dataframe tbody tr th {\n",
       "        vertical-align: top;\n",
       "    }\n",
       "\n",
       "    .dataframe thead th {\n",
       "        text-align: right;\n",
       "    }\n",
       "</style>\n",
       "<table border=\"1\" class=\"dataframe\">\n",
       "  <thead>\n",
       "    <tr style=\"text-align: right;\">\n",
       "      <th></th>\n",
       "      <th>Naive</th>\n",
       "      <th>CacheOpt</th>\n",
       "      <th>StrassenOpt</th>\n",
       "    </tr>\n",
       "  </thead>\n",
       "  <tbody>\n",
       "    <tr>\n",
       "      <th>0</th>\n",
       "      <td>0.000</td>\n",
       "      <td>0.012</td>\n",
       "      <td>0.024</td>\n",
       "    </tr>\n",
       "    <tr>\n",
       "      <th>1</th>\n",
       "      <td>0.013</td>\n",
       "      <td>0.000</td>\n",
       "      <td>0.121</td>\n",
       "    </tr>\n",
       "    <tr>\n",
       "      <th>2</th>\n",
       "      <td>0.016</td>\n",
       "      <td>0.016</td>\n",
       "      <td>0.857</td>\n",
       "    </tr>\n",
       "    <tr>\n",
       "      <th>3</th>\n",
       "      <td>0.100</td>\n",
       "      <td>0.100</td>\n",
       "      <td>5.753</td>\n",
       "    </tr>\n",
       "    <tr>\n",
       "      <th>4</th>\n",
       "      <td>0.874</td>\n",
       "      <td>0.669</td>\n",
       "      <td>41.626</td>\n",
       "    </tr>\n",
       "    <tr>\n",
       "      <th>5</th>\n",
       "      <td>10.750</td>\n",
       "      <td>5.379</td>\n",
       "      <td>283.977</td>\n",
       "    </tr>\n",
       "    <tr>\n",
       "      <th>6</th>\n",
       "      <td>126.218</td>\n",
       "      <td>43.012</td>\n",
       "      <td>2068.559</td>\n",
       "    </tr>\n",
       "  </tbody>\n",
       "</table>\n",
       "</div>"
      ],
      "text/plain": [
       "     Naive  CacheOpt  StrassenOpt\n",
       "0    0.000     0.012        0.024\n",
       "1    0.013     0.000        0.121\n",
       "2    0.016     0.016        0.857\n",
       "3    0.100     0.100        5.753\n",
       "4    0.874     0.669       41.626\n",
       "5   10.750     5.379      283.977\n",
       "6  126.218    43.012     2068.559"
      ]
     },
     "execution_count": 8,
     "metadata": {},
     "output_type": "execute_result"
    }
   ],
   "source": [
    "inp4 = pd.read_csv(\"mul_op_ncs_2.csv\")\n",
    "inp4"
   ]
  },
  {
   "cell_type": "code",
   "execution_count": 9,
   "metadata": {},
   "outputs": [
    {
     "data": {
      "image/png": "[encoded data removed]",
      "text/plain": [
       "<Figure size 432x288 with 1 Axes>"
      ]
     },
     "metadata": {},
     "output_type": "display_data"
    }
   ],
   "source": [
    "fig4 = plt.figure()\n",
    "ax4  = plt.axes()\n",
    "\n",
    "#ax = fig.add_axes([20, 1010, 0, 7])\n",
    "\n",
    "ax4.set_title(\"Processor time comparision : Matrix multiplication 2\")\n",
    "ax4.set_xlabel(\"Input Matrix Size\")\n",
    "ax4.set_ylabel(\"Processor Time (s)\")\n",
    "\n",
    "x4 = np.arange(1, 8)\n",
    "y14 = inp4['Naive']\n",
    "y24 = inp4['CacheOpt']\n",
    "y34 = inp4['StrassenOpt']\n",
    "\n",
    "ax4.plot(x4, y14, color = 'b', label = 'Naive')\n",
    "ax4.plot(x4, y24, color = 'r', label = 'Cache_opt')\n",
    "ax4.plot(x4, y34, color = 'g', label = 'Strassen_opt')\n",
    "\n",
    "plt.legend()\n",
    "\n",
    "plt.savefig(\"C:\\\\Users\\\\S K Nayak\\\\Documents\\\\CSE2003 Project\\\\DSA project\\\\mat_mul_ncs_op_2.png\", format = 'png')"
   ]
  },
  {
   "cell_type": "code",
   "execution_count": null,
   "metadata": {},
   "outputs": [],
   "source": []
  }
 ],
 "metadata": {
  "kernelspec": {
   "display_name": "Python 3",
   "language": "python",
   "name": "python3"
  },
  "language_info": {
   "codemirror_mode": {
    "name": "ipython",
    "version": 3
   },
   "file_extension": ".py",
   "mimetype": "text/x-python",
   "name": "python",
   "nbconvert_exporter": "python",
   "pygments_lexer": "ipython3",
   "version": "3.7.6"
  }
 },
 "nbformat": 4,
 "nbformat_minor": 2
}
